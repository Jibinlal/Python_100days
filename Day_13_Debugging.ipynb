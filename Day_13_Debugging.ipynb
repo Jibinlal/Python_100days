{
  "nbformat": 4,
  "nbformat_minor": 0,
  "metadata": {
    "colab": {
      "provenance": [],
      "authorship_tag": "ABX9TyMgt7rwD3oc6e0F0XDTWTnP",
      "include_colab_link": true
    },
    "kernelspec": {
      "name": "python3",
      "display_name": "Python 3"
    },
    "language_info": {
      "name": "python"
    }
  },
  "cells": [
    {
      "cell_type": "markdown",
      "metadata": {
        "id": "view-in-github",
        "colab_type": "text"
      },
      "source": [
        "<a href=\"https://colab.research.google.com/github/Jibinlal/Python_100days/blob/master/Day_13_Debugging.ipynb\" target=\"_parent\"><img src=\"https://colab.research.google.com/assets/colab-badge.svg\" alt=\"Open In Colab\"/></a>"
      ]
    },
    {
      "cell_type": "markdown",
      "source": [
        "# Steps in Debugging\n",
        "\n",
        "1. Describe the problem\n",
        "2. Reproduce the bug\n",
        "3. Play the computer and evaluate each line\n",
        "4. Fixing the errors and watching for red underlines\n",
        "5. Squash bugs with a print() statement\n",
        "6. Use a debugger (pythontutor , thony editor)\n",
        "  https://pythontutor.com/visualize.html#mode=edit\n",
        "7. Take a break!  \n",
        "8. Ask a friend\n",
        "9. Run often! (In small sections)\n",
        "10. Ask Stackoverflow"
      ],
      "metadata": {
        "id": "vb0AqrlxSqCF"
      }
    }
  ]
}