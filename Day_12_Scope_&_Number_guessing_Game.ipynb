{
  "nbformat": 4,
  "nbformat_minor": 0,
  "metadata": {
    "colab": {
      "provenance": [],
      "collapsed_sections": [],
      "authorship_tag": "ABX9TyMY5x7vcp431tBRQPWIe4Po",
      "include_colab_link": true
    },
    "kernelspec": {
      "name": "python3",
      "display_name": "Python 3"
    },
    "language_info": {
      "name": "python"
    }
  },
  "cells": [
    {
      "cell_type": "markdown",
      "metadata": {
        "id": "view-in-github",
        "colab_type": "text"
      },
      "source": [
        "<a href=\"https://colab.research.google.com/github/Jibinlal/Python_100days/blob/master/Day_12_Scope_%26_Number_guessing_Game.ipynb\" target=\"_parent\"><img src=\"https://colab.research.google.com/assets/colab-badge.svg\" alt=\"Open In Colab\"/></a>"
      ]
    },
    {
      "cell_type": "code",
      "source": [
        "# Local Scope\n",
        "\n",
        "def drink_potion():\n",
        "    potion_strength = 2\n",
        "    print(potion_strength)\n",
        "\n",
        "drink_potion()\n",
        "print(potion_strength)\n"
      ],
      "metadata": {
        "colab": {
          "base_uri": "https://localhost:8080/",
          "height": 223
        },
        "id": "6Q6kT30BJQRK",
        "outputId": "2e3a3cda-fb24-425a-a56f-8215bdeb0bd2"
      },
      "execution_count": 1,
      "outputs": [
        {
          "output_type": "stream",
          "name": "stdout",
          "text": [
            "2\n"
          ]
        },
        {
          "output_type": "error",
          "ename": "NameError",
          "evalue": "ignored",
          "traceback": [
            "\u001b[0;31m---------------------------------------------------------------------------\u001b[0m",
            "\u001b[0;31mNameError\u001b[0m                                 Traceback (most recent call last)",
            "\u001b[0;32m<ipython-input-1-36fa8a682dcd>\u001b[0m in \u001b[0;36m<module>\u001b[0;34m\u001b[0m\n\u001b[1;32m      6\u001b[0m \u001b[0;34m\u001b[0m\u001b[0m\n\u001b[1;32m      7\u001b[0m \u001b[0mdrink_potion\u001b[0m\u001b[0;34m(\u001b[0m\u001b[0;34m)\u001b[0m\u001b[0;34m\u001b[0m\u001b[0;34m\u001b[0m\u001b[0m\n\u001b[0;32m----> 8\u001b[0;31m \u001b[0mprint\u001b[0m\u001b[0;34m(\u001b[0m\u001b[0mpotion_strength\u001b[0m\u001b[0;34m)\u001b[0m\u001b[0;34m\u001b[0m\u001b[0;34m\u001b[0m\u001b[0m\n\u001b[0m",
            "\u001b[0;31mNameError\u001b[0m: name 'potion_strength' is not defined"
          ]
        }
      ]
    },
    {
      "cell_type": "code",
      "source": [
        "\n",
        "# Global Scope\n",
        "player_health = 10\n",
        "\n",
        "def game():\n",
        "    def drink_potion():\n",
        "        potion_strength = 2\n",
        "        print(player_health)\n",
        "\n",
        "    drink_potion()\n",
        "\n",
        "\n",
        "# Global Scope\n",
        "player_health = 10\n",
        "\n",
        "def game():\n",
        "    def drink_potion():\n",
        "        potion_strength = 2\n",
        "        print(\"Inside function:\" + str(player_health))\n",
        "\n",
        "    drink_potion()\n",
        "    \n",
        "game()\n",
        "print(player_health)"
      ],
      "metadata": {
        "colab": {
          "base_uri": "https://localhost:8080/"
        },
        "id": "Lg86ZwZuJoA_",
        "outputId": "3023c01c-1575-4fb6-d24e-2a2e3fba2baf"
      },
      "execution_count": 8,
      "outputs": [
        {
          "output_type": "stream",
          "name": "stdout",
          "text": [
            "Inside function:10\n",
            "10\n"
          ]
        }
      ]
    },
    {
      "cell_type": "code",
      "execution_count": 9,
      "metadata": {
        "id": "0soe8EwJJaOl",
        "colab": {
          "base_uri": "https://localhost:8080/"
        },
        "outputId": "16d51a38-78db-4f47-c507-3b58d9e21280"
      },
      "outputs": [
        {
          "output_type": "stream",
          "name": "stdout",
          "text": [
            "enemies inside function: 1\n",
            "enemies outside function: 2\n"
          ]
        }
      ],
      "source": [
        "# Modifying Global Scope\n",
        "\n",
        "enemies = 1\n",
        "\n",
        "def increase_enemies():\n",
        "    print(f\"enemies inside function: {enemies}\")\n",
        "    return enemies + 1\n",
        "\n",
        "enemies = increase_enemies()\n",
        "print(f\"enemies outside function: {enemies}\")"
      ]
    },
    {
      "cell_type": "code",
      "source": [
        "#Global Constants -- always initate variable with all capital letters\n",
        "\n",
        "PI = 3.14159\n",
        "URL = \"https://www.google.com\"\n",
        "TWITTER_HANDLE = \"@yu_angela\""
      ],
      "metadata": {
        "id": "pyaWjVVzKYr7"
      },
      "execution_count": 10,
      "outputs": []
    },
    {
      "cell_type": "code",
      "source": [
        "# Guess the number game\n",
        "\n",
        "import random\n",
        "# Computer guessing a random number\n",
        "print (\"Welcome to the Number Guessing Game!\")\n",
        "numbr = random.randint(1,100)\n",
        "print(\"I'm thinking of a number between 1 and 100\")\n",
        "\n",
        "# choose dificulty\n",
        "level = input(\"Choose a difficulty. Type 'easy' or 'hard': \")\n",
        "i =10 if level == 'easy' else  5\n",
        "\n",
        "def guess_game():\n",
        "  for n in range(i):\n",
        "    print(f\"You have {i-n} attempts remaining to guess the number\")\n",
        "    guess = int(input(\"Make a guess:\"))\n",
        "    if guess == numbr:\n",
        "      return \"correct\"\n",
        "    elif guess > numbr:\n",
        "      print(\"Too High\")\n",
        "    elif guess < numbr:\n",
        "      print(\"Too low\")\n",
        "\n",
        "if guess_game() == \"correct\":\n",
        "  print(f\"You guessed the correct number: {numbr}\")\n",
        "else:\n",
        "  print(f\"Sorry, you lost! The number was {numbr}\")\n",
        "\n",
        "\n"
      ],
      "metadata": {
        "colab": {
          "base_uri": "https://localhost:8080/"
        },
        "id": "NOFax2AfKdcQ",
        "outputId": "c3a55ba4-535d-4bc2-909a-6b61e2622955"
      },
      "execution_count": 27,
      "outputs": [
        {
          "output_type": "stream",
          "name": "stdout",
          "text": [
            "Welcome to the Number Guessing Game!\n",
            "I'm thinking of a number between 1 and 100\n",
            "Choose a difficulty. Type 'easy' or 'hard': easy\n",
            "You have 10 attempts remaining to guess the number\n",
            "Make a guess:50\n",
            "Too High\n",
            "You have 9 attempts remaining to guess the number\n",
            "Make a guess:20\n",
            "Too low\n",
            "You have 8 attempts remaining to guess the number\n",
            "Make a guess:30\n",
            "Too low\n",
            "You have 7 attempts remaining to guess the number\n",
            "Make a guess:40\n",
            "Too High\n",
            "You have 6 attempts remaining to guess the number\n",
            "Make a guess:35\n",
            "Too High\n",
            "You have 5 attempts remaining to guess the number\n",
            "Make a guess:33\n",
            "Too High\n",
            "You have 4 attempts remaining to guess the number\n",
            "Make a guess:31\n",
            "Too low\n",
            "You have 3 attempts remaining to guess the number\n",
            "Make a guess:32\n",
            "You guessed the correct number: 32\n"
          ]
        }
      ]
    }
  ]
}