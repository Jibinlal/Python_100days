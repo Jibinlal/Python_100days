{
  "nbformat": 4,
  "nbformat_minor": 0,
  "metadata": {
    "colab": {
      "provenance": [],
      "collapsed_sections": [],
      "authorship_tag": "ABX9TyPiwOoJs53HrSqM1UfRi9cW",
      "include_colab_link": true
    },
    "kernelspec": {
      "name": "python3",
      "display_name": "Python 3"
    },
    "language_info": {
      "name": "python"
    }
  },
  "cells": [
    {
      "cell_type": "markdown",
      "metadata": {
        "id": "view-in-github",
        "colab_type": "text"
      },
      "source": [
        "<a href=\"https://colab.research.google.com/github/Jibinlal/Python_100days/blob/master/Day11_Beginner_The_Blackjack_Capstone_Project.ipynb\" target=\"_parent\"><img src=\"https://colab.research.google.com/assets/colab-badge.svg\" alt=\"Open In Colab\"/></a>"
      ]
    },
    {
      "cell_type": "markdown",
      "source": [
        "# BLACKJACK CAPSTONE PROJECT\n",
        "\n",
        "Hint 1: Go to this website and try out the Blackjack game: \n",
        "   https://games.washingtonpost.com/games/blackjack/\n",
        "Then try out the completed Blackjack project here: \n",
        "   http://blackjack-final.appbrewery.repl.run\n",
        "\n",
        "Hint 2: Read this breakdown of program requirements: \n",
        "   http://listmoz.com/view/6h34DJpvJBFVRlZfJvxF\n",
        "Then try to create your own flowchart for the program.\n",
        "\n",
        "Hint 3: Download and read this flow chart I've created: \n",
        "   https://drive.google.com/uc?export=download&id=1rDkiHCrhaf9eX7u7yjM1qwSuyEk-rPnt\n"
      ],
      "metadata": {
        "id": "rfryPdONhyET"
      }
    },
    {
      "cell_type": "code",
      "source": [
        "# BLACKJACK CAPSTONE PROJECT\n",
        "############### Our Blackjack House Rules #####################\n",
        "\n",
        "## The deck is unlimited in size. \n",
        "## There are no jokers. \n",
        "## The Jack/Queen/King all count as 10.\n",
        "## The the Ace can count as 11 or 1.\n",
        "## Use the following list as the deck of cards:\n",
        "## cards = [11, 2, 3, 4, 5, 6, 7, 8, 9, 10, 10, 10, 10]\n",
        "## The cards in the list have equal probability of being drawn.\n",
        "## Cards are not removed from the deck as they are drawn.\n",
        "## The computer is the dealer.\n",
        "\n",
        "import random\n",
        "cards = [11, 2, 3, 4, 5, 6, 7, 8, 9, 10, 10, 10, 10]\n",
        "\n",
        "# FUNCTIONS:\n",
        "# check blackjack\n",
        "def blackjack_check(card):\n",
        "  if card == [10,11] or card == [11,10]:\n",
        "    return True\n",
        "  return False\n",
        "\n",
        "# Check if user needs to take another card\n",
        "def another_card_func(card):\n",
        "    next_card = random.choice(cards)\n",
        "    card.append(next_card)\n",
        "    return card\n",
        "\n",
        "\n",
        "user_card = random.sample(cards, 2)\n",
        "computer_card = random.sample(cards, 2)\n",
        "\n",
        "# MAIN FUNCTION\n",
        "def blacjack_game(user_card,computer_card):\n",
        "  # chose 2 random numbers for user and computer\n",
        "  \n",
        "  to_continue = True\n",
        "  while to_continue == True:\n",
        "    # Add the numbers in the list\n",
        "    user_score = sum(user_card)\n",
        "    computer_score = sum(computer_card)\n",
        "    print(f\"Your cards: {user_card}, current score: {user_score}\")\n",
        "    print(f\"Computer's first card: {computer_card[0]}\")\n",
        "\n",
        "\n",
        "    # check blackjack\n",
        "    if blackjack_check(user_card) == True:\n",
        "      print(f\"Your hand: {user_card}. You have BLACKJACK!\")\n",
        "      return (\"win\")\n",
        "    elif blackjack_check(computer_card) == True:\n",
        "      print(f\"Computer's hand: {computer_card}. Computer has BLACKJACK!\")\n",
        "      return(\"lose\")\n",
        "\n",
        "    # if blackjack is no, then proceed below\n",
        "    # Check if user_score >21\n",
        "    # new_var = 'y'\n",
        "    if user_score >21:\n",
        "      if 11 not in user_card:\n",
        "        print(f\"Your hand: {user_card}.Your score is more than 21!\")\n",
        "        return(\"lose\")  \n",
        "      elif 11 in user_card:\n",
        "        # replace Ace value of 11 with 1\n",
        "        user_card = [1 if x==11 else x for x in user_card]\n",
        "        user_score = sum(user_card)\n",
        "        if user_score >21:\n",
        "          print(f\"Your hand: {user_card}.Your score is more than 21!\")\n",
        "          return(\"lose\")\n",
        "        elif user_score <= 21:\n",
        "          user_continue = input (\"Do you want to get another card? Enter 'y' or 'n':\")\n",
        "          if user_continue == 'y':\n",
        "            user_card = another_card_func(user_card)\n",
        "          elif user_continue =='n':\n",
        "            to_continue = False\n",
        "          \n",
        "    # Ask user if they want to take another card and pick a random number to user_card -- next set of code\n",
        "    elif user_score<=21:\n",
        "      user_continue = input (\"Do you want to get another card? Enter 'y' or 'n':\")\n",
        "      if user_continue == 'y':\n",
        "        user_card = another_card_func(user_card)\n",
        "      elif user_continue =='n':\n",
        "        to_continue = False\n",
        "\n",
        "    \n",
        "  # computer card: if score less than 17, keep drawing cards\n",
        "  while sum(computer_card) < 17:\n",
        "    next_card = random.choice(cards)\n",
        "    computer_card.append(next_card)\n",
        "    \n",
        "  \n",
        "  print (f\"Your final hand: {user_card}, final score: {sum(user_card)}\")\n",
        "  print (f\"Computer's final hand: {computer_card}, final score: {sum(computer_card)}\")\n",
        "\n",
        "  computer_score_mod = sum(computer_card)\n",
        "  if computer_score_mod >21:\n",
        "    return (\"win\")\n",
        "  else:\n",
        "    if user_score == computer_score_mod:\n",
        "      print(\"Both the score are same!\")\n",
        "      return\n",
        "    elif user_score > computer_score_mod:\n",
        "      print(\"Your score is higher than computer!\")\n",
        "      return (\"win\")\n",
        "    elif user_score < computer_score_mod:\n",
        "      print(\"Computer's score is higher than user!\")\n",
        "      return (\"lose\")\n",
        "\n",
        "\n",
        "result = blacjack_game(user_card,computer_card)\n",
        "if result == \"win\":\n",
        "  print(\"USER HAS WON THE GAME\")\n",
        "elif result == \"lose\":\n",
        "  print(\"COMPUTER HAS WON THE GAME\")\n",
        "else:\n",
        "  print(\"It's a DRAW\")\n",
        "\n"
      ],
      "metadata": {
        "colab": {
          "base_uri": "https://localhost:8080/"
        },
        "id": "clPJDJjhbs6N",
        "outputId": "f6409884-0224-494e-bd1a-053f39dec34d"
      },
      "execution_count": 10,
      "outputs": [
        {
          "output_type": "stream",
          "name": "stdout",
          "text": [
            "Your cards: [11, 5], current score: 16\n",
            "Computer's first card: 10\n",
            "Do you want to get another card? Enter 'y' or 'n':y\n",
            "Your cards: [11, 5, 6], current score: 22\n",
            "Computer's first card: 10\n",
            "Do you want to get another card? Enter 'y' or 'n':n\n",
            "Your final hand: [1, 5, 6], final score: 12\n",
            "Computer's final hand: [10, 5, 10], final score: 25\n",
            "USER HAS WON THE GAME\n"
          ]
        }
      ]
    }
  ]
}