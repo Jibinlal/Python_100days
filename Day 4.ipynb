{
  "nbformat": 4,
  "nbformat_minor": 0,
  "metadata": {
    "colab": {
      "name": "Day 4 in collab.ipynb",
      "provenance": [],
      "collapsed_sections": [],
      "authorship_tag": "ABX9TyOWZxhe2OFC6eL7dv5YRIWj",
      "include_colab_link": true
    },
    "kernelspec": {
      "name": "python3",
      "display_name": "Python 3"
    },
    "language_info": {
      "name": "python"
    }
  },
  "cells": [
    {
      "cell_type": "markdown",
      "metadata": {
        "id": "view-in-github",
        "colab_type": "text"
      },
      "source": [
        "<a href=\"https://colab.research.google.com/github/Jibinlal/Python_100days/blob/master/Day%204.ipynb\" target=\"_parent\"><img src=\"https://colab.research.google.com/assets/colab-badge.svg\" alt=\"Open In Colab\"/></a>"
      ]
    },
    {
      "cell_type": "markdown",
      "source": [
        "# **Randomization and Python lists**"
      ],
      "metadata": {
        "id": "CZ98R8RWjmxf"
      }
    },
    {
      "cell_type": "code",
      "execution_count": 3,
      "metadata": {
        "colab": {
          "base_uri": "https://localhost:8080/"
        },
        "id": "-If23XTQimjS",
        "outputId": "8910b5ae-ba6f-4b9d-f6a2-113b2733122e"
      },
      "outputs": [
        {
          "output_type": "stream",
          "name": "stdout",
          "text": [
            "5\n"
          ]
        }
      ],
      "source": [
        "# Random\n",
        "# https://www.askpython.com/python-modules/python-random-module-generate-random-numbers-sequences\n",
        "import random\n",
        "val = random.randint(1,10)\n",
        "print(val)"
      ]
    },
    {
      "cell_type": "code",
      "source": [
        "# Random float\n",
        "val = random.random()\n",
        "print(val)\n",
        "# Random decimal number between 0 and 5?\n",
        "val = random.random()*4\n",
        "print(val)"
      ],
      "metadata": {
        "colab": {
          "base_uri": "https://localhost:8080/"
        },
        "id": "H-9piZ_Dittm",
        "outputId": "1b2fd2b2-f1a8-4922-92e8-9d787adfc2be"
      },
      "execution_count": 6,
      "outputs": [
        {
          "output_type": "stream",
          "name": "stdout",
          "text": [
            "0.6390928436088527\n",
            "0.3514977156086916\n"
          ]
        }
      ]
    },
    {
      "cell_type": "code",
      "source": [
        "# Heads or Tails\n",
        "import random\n",
        "val = random.randint(0,1)\n",
        "if(val == 0):\n",
        "    print (\"Heads\")\n",
        "elif(val == 1):\n",
        "    print(\"Tails\")"
      ],
      "metadata": {
        "colab": {
          "base_uri": "https://localhost:8080/"
        },
        "id": "UZK3Fkzgj3GH",
        "outputId": "aec5ab95-15b2-485f-ebf1-2301d77d7c2c"
      },
      "execution_count": 11,
      "outputs": [
        {
          "output_type": "stream",
          "name": "stdout",
          "text": [
            "Tails\n"
          ]
        }
      ]
    },
    {
      "cell_type": "markdown",
      "source": [
        "**Python List**\n",
        "\n",
        "*   Why? - because you can store multiple valus instead of using multiple variables (eg. All states in US)\n",
        "*   And when you need to have a *order* (eg. store virtual queue of people data)\n",
        "*   List can *store multiple datatype*\n",
        "\n",
        "**Syntax**\n",
        "  \n",
        "  Fruits = [item1, item2]\n",
        "\n",
        "Note: You would use *square brackets* to create a list and also to call an item in the list"
      ],
      "metadata": {
        "id": "XzoxcHbmj9qI"
      }
    },
    {
      "cell_type": "code",
      "source": [
        "states_of_america = [\"Delaware\",\"Pennsylvania\",\"New Jersey\",\"Georgia\"]\n",
        "print(states_of_america[0])\n",
        "print(states_of_america[3])"
      ],
      "metadata": {
        "colab": {
          "base_uri": "https://localhost:8080/"
        },
        "id": "sTGv9U5Vj7eP",
        "outputId": "24ad56b7-472a-4fbc-e384-00314ac0f1f4"
      },
      "execution_count": 25,
      "outputs": [
        {
          "output_type": "stream",
          "name": "stdout",
          "text": [
            "Delaware\n",
            "Georgia\n"
          ]
        }
      ]
    },
    {
      "cell_type": "code",
      "source": [
        "# You could also use a negative index\n",
        "print(states_of_america[-1]) #there is no zero negative in\n",
        "print(states_of_america[-3])"
      ],
      "metadata": {
        "colab": {
          "base_uri": "https://localhost:8080/"
        },
        "id": "HGrhHVrpj7lK",
        "outputId": "829c807f-34cf-41aa-f7f9-d48555357bfb"
      },
      "execution_count": 26,
      "outputs": [
        {
          "output_type": "stream",
          "name": "stdout",
          "text": [
            "Georgia\n",
            "Pennsylvania\n"
          ]
        }
      ]
    },
    {
      "cell_type": "code",
      "source": [
        "# You can also edit item in a list\n",
        "states_of_america[1] = \"Pencilvania\"\n",
        "print(states_of_america)"
      ],
      "metadata": {
        "colab": {
          "base_uri": "https://localhost:8080/"
        },
        "id": "OUhGcy7_oOah",
        "outputId": "ebfd371f-b983-444f-91a1-18dbaae0da1d"
      },
      "execution_count": 27,
      "outputs": [
        {
          "output_type": "stream",
          "name": "stdout",
          "text": [
            "['Delaware', 'Pencilvania', 'New Jersey', 'Georgia']\n"
          ]
        }
      ]
    },
    {
      "cell_type": "code",
      "source": [
        "# Append an item to end of the list\n",
        "states_of_america.append(\"Angelaland\")\n",
        "print(states_of_america)"
      ],
      "metadata": {
        "colab": {
          "base_uri": "https://localhost:8080/"
        },
        "id": "5tZXO-_lofqC",
        "outputId": "eafb53e8-f552-40f4-d4fe-d95497fc9186"
      },
      "execution_count": 28,
      "outputs": [
        {
          "output_type": "stream",
          "name": "stdout",
          "text": [
            "['Delaware', 'Pencilvania', 'New Jersey', 'Georgia', 'Angelaland']\n"
          ]
        }
      ]
    },
    {
      "cell_type": "code",
      "source": [
        "#Use extend method to add another list to an exisiting list\n",
        "states_of_america.extend([\"Jack Land\",\"Unknown land\"])\n",
        "print(states_of_america)"
      ],
      "metadata": {
        "colab": {
          "base_uri": "https://localhost:8080/"
        },
        "id": "FvnBSINvoOc7",
        "outputId": "afb0dab6-c8d8-414e-c5fd-b1361fa5b7f0"
      },
      "execution_count": 29,
      "outputs": [
        {
          "output_type": "stream",
          "name": "stdout",
          "text": [
            "['Delaware', 'Pencilvania', 'New Jersey', 'Georgia', 'Angelaland', 'Jack Land', 'Unknown land']\n"
          ]
        }
      ]
    },
    {
      "cell_type": "markdown",
      "source": [
        "There are many other methods which we can perform on list: (Don't mugup! Just have a look at all the posibilities)\n",
        "https://docs.python.org/3/tutorial/datastructures.html"
      ],
      "metadata": {
        "id": "wAXeDWLIrPUt"
      }
    },
    {
      "cell_type": "code",
      "source": [
        ""
      ],
      "metadata": {
        "id": "9AASOxPTq8aj"
      },
      "execution_count": null,
      "outputs": []
    }
  ]
}