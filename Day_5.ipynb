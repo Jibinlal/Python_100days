{
  "nbformat": 4,
  "nbformat_minor": 0,
  "metadata": {
    "colab": {
      "name": "Day 5.ipynb",
      "provenance": [],
      "collapsed_sections": [],
      "authorship_tag": "ABX9TyOh5j34JpLQpiGG3MfxZb3j",
      "include_colab_link": true
    },
    "kernelspec": {
      "name": "python3",
      "display_name": "Python 3"
    },
    "language_info": {
      "name": "python"
    }
  },
  "cells": [
    {
      "cell_type": "markdown",
      "metadata": {
        "id": "view-in-github",
        "colab_type": "text"
      },
      "source": [
        "<a href=\"https://colab.research.google.com/github/Jibinlal/Python_100days/blob/master/Day_5.ipynb\" target=\"_parent\"><img src=\"https://colab.research.google.com/assets/colab-badge.svg\" alt=\"Open In Colab\"/></a>"
      ]
    },
    {
      "cell_type": "markdown",
      "source": [
        "# **PYTHON LOOPS**"
      ],
      "metadata": {
        "id": "tb0J17dXstGO"
      }
    },
    {
      "cell_type": "code",
      "execution_count": 1,
      "metadata": {
        "colab": {
          "base_uri": "https://localhost:8080/"
        },
        "id": "CABJj_THsNrP",
        "outputId": "e58728c3-cda8-4edb-c0ea-d7a7136dbdb7"
      },
      "outputs": [
        {
          "output_type": "stream",
          "name": "stdout",
          "text": [
            "apple\n",
            "orange\n",
            "peach\n"
          ]
        }
      ],
      "source": [
        "# For loops\n",
        "fruits = [\"apple\",\"orange\",\"peach\"]\n",
        "for fruit in fruits:\n",
        "  print(fruit)"
      ]
    },
    {
      "cell_type": "code",
      "source": [
        "#Exercise: Average Student height\n",
        "# 🚨 Don't change the code below 👇\n",
        "student_heights = input(\"Input a list of student heights \").split()\n",
        "for n in range(0, len(student_heights)):\n",
        "  student_heights[n] = int(student_heights[n])\n",
        "print(student_heights)\n",
        "# 🚨 Don't change the code above 👆\n",
        "\n",
        "sum=0\n",
        "length = 0\n",
        "for height in student_heights:\n",
        "  sum = sum + height\n",
        "  length += 1\n",
        "print(f\"{round((sum/length))}\")\n"
      ],
      "metadata": {
        "colab": {
          "base_uri": "https://localhost:8080/"
        },
        "id": "vAXvNqUXAtiw",
        "outputId": "a45fd8ee-dce7-46c1-a214-1c2c5cf761e8"
      },
      "execution_count": 13,
      "outputs": [
        {
          "output_type": "stream",
          "name": "stdout",
          "text": [
            "Input a list of student heights 156 178 165 171 187\n",
            "[156, 178, 165, 171, 187]\n",
            "171\n"
          ]
        }
      ]
    },
    {
      "cell_type": "code",
      "source": [
        "#Exercise: calculates the highest score from a List of scores\n",
        "\n",
        "# 🚨 Don't change the code below 👇\n",
        "student_scores = input(\"Input a list of student scores \").split()\n",
        "for n in range(0, len(student_scores)):\n",
        "  student_scores[n] = int(student_scores[n])\n",
        "print(student_scores)\n",
        "# 🚨 Don't change the code above 👆\n",
        "\n",
        "#Write your code below this row 👇\n",
        "\n",
        "temp = 0\n",
        "for scores in student_scores:\n",
        "    if scores > temp:\n",
        "        temp = scores\n",
        "\n",
        "print(f\"The highest score in the class is: {temp}\")"
      ],
      "metadata": {
        "id": "Eng_hinDMUsv"
      },
      "execution_count": null,
      "outputs": []
    },
    {
      "cell_type": "code",
      "source": [
        "# for loops with range function\n",
        "for i in range(1,5): #NOTE THAT THE SECOND END WILL NEVER BE INCLUDED, IN THIS CASE 5\n",
        "  print(i)"
      ],
      "metadata": {
        "colab": {
          "base_uri": "https://localhost:8080/"
        },
        "id": "8CjqphbZOY4j",
        "outputId": "bf0a2bb0-dfe2-42a0-9db2-6a0e007a3683"
      },
      "execution_count": 14,
      "outputs": [
        {
          "output_type": "stream",
          "name": "stdout",
          "text": [
            "1\n",
            "2\n",
            "3\n",
            "4\n"
          ]
        }
      ]
    },
    {
      "cell_type": "code",
      "source": [
        "# for loops; range with step\n",
        "for i in range (1,5,2):\n",
        "  print (i)"
      ],
      "metadata": {
        "colab": {
          "base_uri": "https://localhost:8080/"
        },
        "id": "4D9U0T7XPcST",
        "outputId": "20cd3c25-1702-4956-c3b9-fd48c7a51236"
      },
      "execution_count": 15,
      "outputs": [
        {
          "output_type": "stream",
          "name": "stdout",
          "text": [
            "1\n",
            "3\n"
          ]
        }
      ]
    },
    {
      "cell_type": "code",
      "source": [
        "#Exercise: sum of all the even numbers from 1 to 100\n",
        "sum=0\n",
        "for i in range(2,101,2):\n",
        "    sum += i\n",
        "print (sum)"
      ],
      "metadata": {
        "colab": {
          "base_uri": "https://localhost:8080/"
        },
        "id": "or_Ti4PuPyBx",
        "outputId": "9d6c6e0c-18ca-4d6c-9fcb-dd74f6330408"
      },
      "execution_count": 16,
      "outputs": [
        {
          "output_type": "stream",
          "name": "stdout",
          "text": [
            "2550\n"
          ]
        }
      ]
    },
    {
      "cell_type": "code",
      "source": [
        "# Your program should print each number from 1 to 20 in turn. \n",
        "# When the number is divisible by 3 then instead of printing the number it should print \"Fizz\".\n",
        "# When the number is divisible by 5, then instead of printing the number it should print \"Buzz\".`\n",
        "# And if the number is divisible by both 3 and 5 e.g. 15 then instead of the number it should print \"FizzBuzz\"\n",
        "\n",
        "for i in range (1,20):\n",
        "    if (i%3 == 0 and i%5 ==0):\n",
        "        print(\"FizzBuzz\")\n",
        "    elif (i%3 == 0):\n",
        "        print(\"Fizz\")\n",
        "    elif (i%5 ==0):\n",
        "        print(\"Buzz\")\n",
        "    else:\n",
        "        print(i)\n"
      ],
      "metadata": {
        "colab": {
          "base_uri": "https://localhost:8080/"
        },
        "id": "tg60Eo08RDGz",
        "outputId": "9c311ead-72d3-4fea-dfba-6a8ef7e43638"
      },
      "execution_count": 18,
      "outputs": [
        {
          "output_type": "stream",
          "name": "stdout",
          "text": [
            "1\n",
            "2\n",
            "Fizz\n",
            "4\n",
            "Buzz\n",
            "Fizz\n",
            "7\n",
            "8\n",
            "Fizz\n",
            "Buzz\n",
            "11\n",
            "Fizz\n",
            "13\n",
            "14\n",
            "FizzBuzz\n",
            "16\n",
            "17\n",
            "Fizz\n",
            "19\n"
          ]
        }
      ]
    },
    {
      "cell_type": "code",
      "source": [
        "#Password Generator Project\n",
        "import random\n",
        "letters = ['a', 'b', 'c', 'd', 'e', 'f', 'g', 'h', 'i', 'j', 'k', 'l', 'm', 'n', 'o', 'p', 'q', 'r', 's', 't', 'u', 'v', 'w', 'x', 'y', 'z', 'A', 'B', 'C', 'D', 'E', 'F', 'G', 'H', 'I', 'J', 'K', 'L', 'M', 'N', 'O', 'P', 'Q', 'R', 'S', 'T', 'U', 'V', 'W', 'X', 'Y', 'Z']\n",
        "numbers = ['0', '1', '2', '3', '4', '5', '6', '7', '8', '9']\n",
        "symbols = ['!', '#', '$', '%', '&', '(', ')', '*', '+']\n",
        "\n",
        "print(\"Welcome to the PyPassword Generator!\")\n",
        "nr_letters= int(input(\"How many letters would you like in your password?\\n\")) \n",
        "nr_numbers = int(input(f\"How many numbers would you like?\\n\"))\n",
        "nr_symbols = int(input(f\"How many symbols would you like?\\n\"))\n",
        "\n",
        "passs = []\n",
        "\n",
        "for i in range( 0, nr_letters+1 ): #ADDED 1 AS RANGE DOESN'T TAKE LAST VALUE\n",
        "  rand = random.randint(0,len(letters)-1)\n",
        "  passs.append(letters[rand])\n",
        "\n",
        "for i in range( 0, nr_numbers+1 ):\n",
        "  rand = random.randint(0,len(numbers)-1) #you can also use randome.choice(letters) instead of both lines below\n",
        "  passs.append(numbers[rand])\n",
        "\n",
        "for i in range( 0, nr_symbols+1 ):\n",
        "  rand = random.randint(0,len(symbols)-1)\n",
        "  passs.append(symbols[rand])\n",
        "\n",
        "random.shuffle(passs) #Note that this shuffles the original list. If you want new shuffled list, use random.sample() \n",
        "print(''.join(passs))\n",
        "# #Eazy Level - Order not randomised:\n",
        "# #e.g. 4 letter, 2 symbol, 2 number = JduE&!91\n",
        "\n",
        "\n",
        "# #Hard Level - Order of characters randomised:\n",
        "# #e.g. 4 letter, 2 symbol, 2 number = g^2jk8&P"
      ],
      "metadata": {
        "colab": {
          "base_uri": "https://localhost:8080/"
        },
        "id": "UNbTMTsLRDLL",
        "outputId": "33536fcc-cf71-4332-9498-e5f807a11f0c"
      },
      "execution_count": 53,
      "outputs": [
        {
          "output_type": "stream",
          "name": "stdout",
          "text": [
            "Welcome to the PyPassword Generator!\n",
            "How many letters would you like in your password?\n",
            "12\n",
            "How many numbers would you like?\n",
            "3\n",
            "How many symbols would you like?\n",
            "4\n",
            "*C)%bjg1m9k!b!Ha5Qn2Ls\n"
          ]
        }
      ]
    }
  ]
}