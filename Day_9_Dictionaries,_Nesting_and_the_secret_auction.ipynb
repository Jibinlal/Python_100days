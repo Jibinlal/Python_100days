{
  "nbformat": 4,
  "nbformat_minor": 0,
  "metadata": {
    "colab": {
      "name": "Day 9 - Dictionaries, Nesting and the secret auction.ipynb",
      "provenance": [],
      "collapsed_sections": [],
      "authorship_tag": "ABX9TyOuFeqF22Zfvz5np1+cA+8s",
      "include_colab_link": true
    },
    "kernelspec": {
      "name": "python3",
      "display_name": "Python 3"
    },
    "language_info": {
      "name": "python"
    }
  },
  "cells": [
    {
      "cell_type": "markdown",
      "metadata": {
        "id": "view-in-github",
        "colab_type": "text"
      },
      "source": [
        "<a href=\"https://colab.research.google.com/github/Jibinlal/Python_100days/blob/master/Day_9_Dictionaries%2C_Nesting_and_the_secret_auction.ipynb\" target=\"_parent\"><img src=\"https://colab.research.google.com/assets/colab-badge.svg\" alt=\"Open In Colab\"/></a>"
      ]
    },
    {
      "cell_type": "markdown",
      "source": [
        "## **DICTIONARIES**\n",
        "Think of it as a dictionary where we have a word and its definition\n",
        "\n",
        "Format: {key:value}\n",
        "\n",
        "Example: {Bug:An error in a program that prevents the program from running as expected.}\n",
        "\n",
        "Multiple items can be separated by comma"
      ],
      "metadata": {
        "id": "Qtajs2jCSShN"
      }
    },
    {
      "cell_type": "code",
      "execution_count": 9,
      "metadata": {
        "id": "z0gLajphivO3",
        "colab": {
          "base_uri": "https://localhost:8080/"
        },
        "outputId": "03bc2718-661d-469d-a7a0-5be9ec13402b"
      },
      "outputs": [
        {
          "output_type": "execute_result",
          "data": {
            "text/plain": [
              "{'Bug': 'An error in a program that prevents the program from running as expected.',\n",
              " 'Function': 'A piece of code that you can easily call over and over again.'}"
            ]
          },
          "metadata": {},
          "execution_count": 9
        }
      ],
      "source": [
        "# Creating dictionaries - refer below on how python programmers would write a dictionary\n",
        "programming_dictionary = {\n",
        "    \"Bug\": \"An error in a program that prevents the program from running as expected.\", \n",
        "    \"Function\": \"A piece of code that you can easily call over and over again.\",\n",
        "}\n",
        "\n",
        "programming_dictionary               "
      ]
    },
    {
      "cell_type": "code",
      "source": [
        "# For referencing in List, we would use List[1]. In dictionary it would be using the key - Please be sure we spell it correctly!\n",
        "programming_dictionary [\"Bug\"]"
      ],
      "metadata": {
        "colab": {
          "base_uri": "https://localhost:8080/",
          "height": 36
        },
        "id": "uTIi_YuMTTGC",
        "outputId": "375849e7-4def-4c91-ef50-5c2afbe4498d"
      },
      "execution_count": 4,
      "outputs": [
        {
          "output_type": "execute_result",
          "data": {
            "text/plain": [
              "'An error in a program that prevents the program from running as expected.'"
            ],
            "application/vnd.google.colaboratory.intrinsic+json": {
              "type": "string"
            }
          },
          "metadata": {},
          "execution_count": 4
        }
      ]
    },
    {
      "cell_type": "code",
      "source": [
        "# We get keyerror when we search value not in the dictionary/misspelled and these are case-sensitive as well!\n",
        "programming_dictionary[\"bug\"]"
      ],
      "metadata": {
        "colab": {
          "base_uri": "https://localhost:8080/",
          "height": 187
        },
        "id": "330dp_AFTVhq",
        "outputId": "53fe9750-e104-444d-a911-595c97af01bc"
      },
      "execution_count": 14,
      "outputs": [
        {
          "output_type": "error",
          "ename": "KeyError",
          "evalue": "ignored",
          "traceback": [
            "\u001b[0;31m---------------------------------------------------------------------------\u001b[0m",
            "\u001b[0;31mKeyError\u001b[0m                                  Traceback (most recent call last)",
            "\u001b[0;32m<ipython-input-14-faa8e4e5ef04>\u001b[0m in \u001b[0;36m<module>\u001b[0;34m\u001b[0m\n\u001b[1;32m      1\u001b[0m \u001b[0;31m# We get keyerror when we search value not in the dictionary/misspelled and these are case-sensitive as well!\u001b[0m\u001b[0;34m\u001b[0m\u001b[0;34m\u001b[0m\u001b[0;34m\u001b[0m\u001b[0m\n\u001b[0;32m----> 2\u001b[0;31m \u001b[0mprogramming_dictionary\u001b[0m\u001b[0;34m[\u001b[0m\u001b[0;34m\"bug\"\u001b[0m\u001b[0;34m]\u001b[0m\u001b[0;34m\u001b[0m\u001b[0;34m\u001b[0m\u001b[0m\n\u001b[0m",
            "\u001b[0;31mKeyError\u001b[0m: 'bug'"
          ]
        }
      ]
    },
    {
      "cell_type": "code",
      "source": [
        "# Format of variables matters - If you would write a string without quotes, program would consider it as a \n",
        "# variable which was previously defined\n",
        "Fruits = {\n",
        "    Apple : \"Red\"\n",
        "}\n",
        "Fruits [Apple]"
      ],
      "metadata": {
        "colab": {
          "base_uri": "https://localhost:8080/",
          "height": 241
        },
        "id": "Sx3JwzDjTVeb",
        "outputId": "3099bccd-c395-435a-b8e5-7f2ba3b61b73"
      },
      "execution_count": 8,
      "outputs": [
        {
          "output_type": "error",
          "ename": "NameError",
          "evalue": "ignored",
          "traceback": [
            "\u001b[0;31m---------------------------------------------------------------------------\u001b[0m",
            "\u001b[0;31mNameError\u001b[0m                                 Traceback (most recent call last)",
            "\u001b[0;32m<ipython-input-8-59550b90ddad>\u001b[0m in \u001b[0;36m<module>\u001b[0;34m\u001b[0m\n\u001b[1;32m      1\u001b[0m \u001b[0;31m# Format of variables matters\u001b[0m\u001b[0;34m\u001b[0m\u001b[0;34m\u001b[0m\u001b[0;34m\u001b[0m\u001b[0m\n\u001b[1;32m      2\u001b[0m Fruits = {\n\u001b[0;32m----> 3\u001b[0;31m     \u001b[0mApple\u001b[0m \u001b[0;34m:\u001b[0m \u001b[0;34m\"Red\"\u001b[0m\u001b[0;34m\u001b[0m\u001b[0;34m\u001b[0m\u001b[0m\n\u001b[0m\u001b[1;32m      4\u001b[0m }\n\u001b[1;32m      5\u001b[0m \u001b[0mFruits\u001b[0m \u001b[0;34m[\u001b[0m\u001b[0mApple\u001b[0m\u001b[0;34m]\u001b[0m\u001b[0;34m\u001b[0m\u001b[0;34m\u001b[0m\u001b[0m\n",
            "\u001b[0;31mNameError\u001b[0m: name 'Apple' is not defined"
          ]
        }
      ]
    },
    {
      "cell_type": "code",
      "source": [
        "# Adding items to dictionary\n",
        "programming_dictionary[\"Loop\"] = \"The action of doing something over and over again\"\n",
        "programming_dictionary"
      ],
      "metadata": {
        "colab": {
          "base_uri": "https://localhost:8080/"
        },
        "id": "9gnZMWHGTVau",
        "outputId": "108cc594-d2b9-4c85-8a6d-32ce2e66dde1"
      },
      "execution_count": 10,
      "outputs": [
        {
          "output_type": "execute_result",
          "data": {
            "text/plain": [
              "{'Bug': 'An error in a program that prevents the program from running as expected.',\n",
              " 'Function': 'A piece of code that you can easily call over and over again.',\n",
              " 'Loop': 'The action of doing something over and over again'}"
            ]
          },
          "metadata": {},
          "execution_count": 10
        }
      ]
    },
    {
      "cell_type": "code",
      "source": [
        "# Empty dictionary / List\n",
        "empty_list = []\n",
        "empty_dictionary = {}"
      ],
      "metadata": {
        "id": "zUsJ3CA8TVXX"
      },
      "execution_count": null,
      "outputs": []
    },
    {
      "cell_type": "code",
      "source": [
        "# Wiping an exisiting dictionary\n",
        "programming_dictionary = {}\n",
        "programming_dictionary"
      ],
      "metadata": {
        "colab": {
          "base_uri": "https://localhost:8080/"
        },
        "id": "LwXR87HQTVU1",
        "outputId": "89d554aa-c546-4c15-d477-4708a01421b5"
      },
      "execution_count": 12,
      "outputs": [
        {
          "output_type": "execute_result",
          "data": {
            "text/plain": [
              "{}"
            ]
          },
          "metadata": {},
          "execution_count": 12
        }
      ]
    },
    {
      "cell_type": "code",
      "source": [
        "# Edit an item in dictionary\n",
        "programming_dictionary = {\n",
        "    \"Bug\": \"An error in a program that prevents the program from running as expected.\", \n",
        "    \"Function\": \"A piece of code that you can easily call over and over again.\",\n",
        "}\n",
        "\n",
        "programming_dictionary[\"Bug\"] = \"A moth in your computer\"\n",
        "programming_dictionary\n"
      ],
      "metadata": {
        "colab": {
          "base_uri": "https://localhost:8080/"
        },
        "id": "ytyI_p25TVRZ",
        "outputId": "bdbaf227-e231-4258-c46e-b3543e6c6d5d"
      },
      "execution_count": 15,
      "outputs": [
        {
          "output_type": "execute_result",
          "data": {
            "text/plain": [
              "{'Bug': 'A moth in your computer',\n",
              " 'Function': 'A piece of code that you can easily call over and over again.'}"
            ]
          },
          "metadata": {},
          "execution_count": 15
        }
      ]
    },
    {
      "cell_type": "code",
      "source": [
        "# Loop through dictionary - Just using normal loops as in list would give you only KEY; to get values as well, use dictionary name\n",
        "for thing in programming_dictionary:\n",
        "  print(thing)\n",
        "  print(programming_dictionary[thing])"
      ],
      "metadata": {
        "colab": {
          "base_uri": "https://localhost:8080/"
        },
        "id": "83zHUtSvTVOi",
        "outputId": "bc463a32-be92-415f-966e-7013eef09da3"
      },
      "execution_count": 17,
      "outputs": [
        {
          "output_type": "stream",
          "name": "stdout",
          "text": [
            "Bug\n",
            "A moth in your computer\n",
            "Function\n",
            "A piece of code that you can easily call over and over again.\n"
          ]
        }
      ]
    },
    {
      "cell_type": "code",
      "source": [
        "# CODING CHALLENGE: Write a program that converts their scores to grades. \n",
        "\n",
        "student_scores = {\n",
        "  \"Harry\": 81,\n",
        "  \"Ron\": 78,\n",
        "  \"Hermione\": 99, \n",
        "  \"Draco\": 74,\n",
        "  \"Neville\": 62,\n",
        "}\n",
        "# 🚨 Don't change the code above 👆\n",
        "\n",
        "#TODO-1: Create an empty dictionary called student_grades.\n",
        "student_grades={}\n",
        "\n",
        "#TODO-2: Write your code below to add the grades to student_grades.👇\n",
        "\n",
        "for name in student_scores:\n",
        "    if 91<= student_scores[name] <=100:\n",
        "        student_grades[name]=\"Outstanding\"\n",
        "    if 81<= student_scores[name] <=90:\n",
        "        student_grades[name]=\"Exceeds Expectations\"\n",
        "    if 71<= student_scores[name] <=80:\n",
        "        student_grades[name]=\"Acceptable\"\n",
        "    if student_scores[name] <=70:\n",
        "        student_grades[name]=\"Fail\"\n",
        "    \n",
        "\n",
        "# 🚨 Don't change the code below 👇\n",
        "print(student_grades)"
      ],
      "metadata": {
        "id": "Jo40tnU5TVAF"
      },
      "execution_count": null,
      "outputs": []
    },
    {
      "cell_type": "markdown",
      "source": [
        "## **Nesting in List and Dictionaries**\n",
        "In simple - something like keeping one folder inside another folder\n",
        "\n",
        "Example:\n",
        "\n",
        "\n",
        "```\n",
        "{\n",
        "Key1: [List]\n",
        "Key2: {Dict}\n",
        "}\n",
        "```\n",
        "Thoguh this is complicated, we can use this to store different types of data\n"
      ],
      "metadata": {
        "id": "SuU-OOLp7D_e"
      }
    },
    {
      "cell_type": "code",
      "source": [
        "# Nesting in List and Dictionaries\n",
        "Captials = {\n",
        "    \"France\":\"Paris\",\n",
        "    \"Germany\":\"Berlin\"\n",
        "}\n",
        "\n",
        "# Nesting a list in Dictionary - this is needed here because you can't match a key to multiple values, \n",
        "# hence the only alternative is to map the key to a List\n",
        "travel_log = {\n",
        "    \"France\":[\"Paris\",\"Lille\",\"Dijon\"]\n",
        "}\n",
        "travel_log\n",
        "\n"
      ],
      "metadata": {
        "colab": {
          "base_uri": "https://localhost:8080/"
        },
        "id": "qsNgJlQtaNBp",
        "outputId": "0e6dfd58-1105-465d-8272-6c625c3303c3"
      },
      "execution_count": 5,
      "outputs": [
        {
          "output_type": "execute_result",
          "data": {
            "text/plain": [
              "{'France': ['Paris', 'Lille', 'Dijon']}"
            ]
          },
          "metadata": {},
          "execution_count": 5
        }
      ]
    },
    {
      "cell_type": "code",
      "source": [
        "# Nest a dictionary in a dictionary\n",
        "travel_log2 = {\n",
        "    \"France\":{\"cities_visited\":[\"Paris\",\"Lille\",\"Dijon\"], \"total_visits\":12},\n",
        "    \"Germany\": [\"Berlin\",\"Hamburg\",\"Stuttgart\"]\n",
        "}\n",
        "travel_log2[\"France\"][\"cities_visited\"]"
      ],
      "metadata": {
        "colab": {
          "base_uri": "https://localhost:8080/"
        },
        "id": "DiUxgn8EaO3u",
        "outputId": "48d71e73-8254-4287-a27f-ff77b8514a76"
      },
      "execution_count": 11,
      "outputs": [
        {
          "output_type": "execute_result",
          "data": {
            "text/plain": [
              "['Paris', 'Lille', 'Dijon']"
            ]
          },
          "metadata": {},
          "execution_count": 11
        }
      ]
    },
    {
      "cell_type": "markdown",
      "source": [
        "Importance thing to Note: List are ordered pairs and the items can be accessed by their position, while in dictionary, you can access items using Key values"
      ],
      "metadata": {
        "id": "RYUJjIRq98wS"
      }
    },
    {
      "cell_type": "code",
      "source": [
        "# Nesting a dictionary inside a List\n",
        "travel_log3 = [\n",
        "    {\"Country\":\"France\",\n",
        "     \"cities_visited\":[\"Paris\",\"Lille\",\"Dijon\"], \n",
        "     \"total_visits\":12 \n",
        "    },\n",
        "    {\"Country\":\"Germany\",\n",
        "     \"cities_visited\": [\"Berlin\",\"Hamburg\",\"Stuttgart\"],\n",
        "     \"total_visits\":5 \n",
        "    }\n",
        "]\n",
        "travel_log3"
      ],
      "metadata": {
        "colab": {
          "base_uri": "https://localhost:8080/"
        },
        "id": "6S8nAw8MaO1w",
        "outputId": "72821b0c-3cd6-4f3d-e794-c3d1e19802c9"
      },
      "execution_count": 13,
      "outputs": [
        {
          "output_type": "execute_result",
          "data": {
            "text/plain": [
              "[{'Country': 'France',\n",
              "  'cities_visited': ['Paris', 'Lille', 'Dijon'],\n",
              "  'total_visits': 12},\n",
              " {'Country': 'Germany',\n",
              "  'cities_visited': ['Berlin', 'Hamburg', 'Stuttgart'],\n",
              "  'total_visits': 5}]"
            ]
          },
          "metadata": {},
          "execution_count": 13
        }
      ]
    },
    {
      "cell_type": "code",
      "source": [
        "# CODING CHALLENGE: Write a function that will work with the following line of code on line 21 to \n",
        "# add the entry for Russia to the travel_log.\n",
        "travel_log = [\n",
        "{\n",
        "  \"country\": \"France\",\n",
        "  \"visits\": 12,\n",
        "  \"cities\": [\"Paris\", \"Lille\", \"Dijon\"]\n",
        "},\n",
        "{\n",
        "  \"country\": \"Germany\",\n",
        "  \"visits\": 5,\n",
        "  \"cities\": [\"Berlin\", \"Hamburg\", \"Stuttgart\"]\n",
        "},\n",
        "]\n",
        "#🚨 Do NOT change the code above\n",
        "\n",
        "#TODO: Write the function that will allow new countries\n",
        "#to be added to the travel_log. 👇\n",
        "def add_new_country(Addcountry,Addvisit,Addcity):\n",
        "    travel_log.append({\n",
        "        \"country\":Addcountry,\n",
        "        \"visits\":Addvisit,\n",
        "        \"cities\":Addcity                \n",
        "                        })\n",
        "\n",
        "#🚨 Do not change the code below\n",
        "add_new_country(\"Russia\", 2, [\"Moscow\", \"Saint Petersburg\"])\n",
        "print(travel_log)\n"
      ],
      "metadata": {
        "id": "EV3OjtJ0aOzl"
      },
      "execution_count": null,
      "outputs": []
    },
    {
      "cell_type": "markdown",
      "source": [
        "## **PROJECT- AUCTION PROGRAM**\n",
        "\n",
        "\n",
        "![image.png](data:image/png;base64,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)"
      ],
      "metadata": {
        "id": "oVdHgWptJ2At"
      }
    },
    {
      "cell_type": "code",
      "source": [
        "# PROJECT- AUCTION PROGRAM\n",
        "\n",
        "# Import to clear output at each step\n",
        "from IPython.display import clear_output\n",
        "\n",
        "# Function to add entered values to dictionary\n",
        "details = {}\n",
        "def insert(name,price):\n",
        "  details[name]=price\n",
        "\n",
        "# To exit loop in case there are no more bidders\n",
        "condition = True\n",
        "while condition == True:\n",
        "  name = str(input(\"Enter your name?\"))\n",
        "  price = input(\"Enter the Bid amount\")\n",
        "  insert(name, price)\n",
        "  check = input(\"Do you have any other bidders? Type 'Yes' or 'No'\")\n",
        "  if check == \"Yes\":\n",
        "    clear_output(wait=True)\n",
        "  if check == \"No\":\n",
        "    clear_output(wait=True)\n",
        "    condition = False\n",
        "  if check not in (\"Yes\",\"No\"):\n",
        "    print(\"Invalid entry\")\n",
        "\n",
        "# To check the highest bidder\n",
        "highest_bidder = max(details,key=details.get)\n",
        "\n",
        "print(f\"Highest bidder is {highest_bidder}\")"
      ],
      "metadata": {
        "colab": {
          "base_uri": "https://localhost:8080/"
        },
        "id": "cQJTb6-oaOw3",
        "outputId": "e32a0250-34ca-4c68-a3ad-2698c48023f0"
      },
      "execution_count": 25,
      "outputs": [
        {
          "output_type": "stream",
          "name": "stdout",
          "text": [
            "Highest bidder is Jibin\n"
          ]
        }
      ]
    }
  ]
}